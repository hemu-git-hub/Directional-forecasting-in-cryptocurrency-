{
 "cells": [
  {
   "cell_type": "code",
   "execution_count": 74,
   "id": "be0d4d3b-8a69-401f-abd2-a4b18e4b1756",
   "metadata": {},
   "outputs": [],
   "source": [
    "import pandas as pd\n",
    "from xgboost import XGBClassifier\n",
    "from sklearn.model_selection import GridSearchCV\n",
    "from sklearn.preprocessing import StandardScaler\n",
    "from sklearn.metrics import accuracy_score, roc_auc_score, f1_score, precision_score, recall_score\n"
   ]
  },
  {
   "cell_type": "code",
   "execution_count": 76,
   "id": "297ca49c-cd43-4bde-890a-0a52c3b20729",
   "metadata": {},
   "outputs": [],
   "source": [
    "train_df = pd.read_csv(\"Desktop/directional-forecasting-in-cryptocurrencies/train.csv\")\n",
    "test_df = pd.read_csv(\"Desktop/directional-forecasting-in-cryptocurrencies/test.csv\")\n",
    "\n",
    "train_df['datetime'] = pd.to_datetime(train_df['timestamp'], unit='s')\n",
    "test_df['datetime'] = pd.to_datetime(test_df['timestamp'], unit='s')\n",
    "\n",
    "###\n",
    "train_df['year'] = train_df['datetime'].dt.year\n",
    "train_df['month'] = train_df['datetime'].dt.month\n",
    "train_df['day'] = train_df['datetime'].dt.day\n",
    "train_df['day_of_week'] = train_df['datetime'].dt.dayofweek  # Monday=0, Sunday=6\n",
    "train_df['hour'] = train_df['datetime'].dt.hour\n",
    "train_df['minute'] = train_df['datetime'].dt.minute\n",
    "train_df['minute_of_day'] = train_df['hour'] * 60 + train_df['minute']\n",
    "###\n",
    "\n",
    "###\n",
    "test_df['year'] = test_df['datetime'].dt.year\n",
    "test_df['month'] = test_df['datetime'].dt.month\n",
    "test_df['day'] = test_df['datetime'].dt.day\n",
    "test_df['day_of_week'] = test_df['datetime'].dt.dayofweek \n",
    "test_df['hour'] = test_df['datetime'].dt.hour\n",
    "test_df['minute'] = test_df['datetime'].dt.minute\n",
    "test_df['minute_of_day'] = test_df['hour'] * 60 + test_df['minute']\n",
    "###\n",
    "\n",
    "train_df.drop(columns=['timestamp', 'datetime'], inplace=True)\n",
    "test_df.drop(columns=['timestamp', 'datetime'], inplace=True)\n",
    "\n",
    "X_train = train_df.drop(columns=['target'])\n",
    "y_train = train_df['target']\n",
    "\n",
    "X_test = test_df.drop(columns=['row_id'])\n",
    "test_row_ids = test_df['row_id']\n",
    "\n",
    "\n"
   ]
  },
  {
   "cell_type": "code",
   "execution_count": 41,
   "id": "52dd672b-94c7-49b6-83bd-063f10713090",
   "metadata": {},
   "outputs": [
    {
     "name": "stderr",
     "output_type": "stream",
     "text": [
      "/opt/anaconda3/lib/python3.12/site-packages/xgboost/core.py:158: UserWarning: [21:35:38] WARNING: /Users/runner/work/xgboost/xgboost/src/learner.cc:740: \n",
      "Parameters: { \"use_label_encoder\" } are not used.\n",
      "\n",
      "  warnings.warn(smsg, UserWarning)\n",
      "/opt/anaconda3/lib/python3.12/site-packages/xgboost/core.py:158: UserWarning: [21:35:38] WARNING: /Users/runner/work/xgboost/xgboost/src/learner.cc:740: \n",
      "Parameters: { \"use_label_encoder\" } are not used.\n",
      "\n",
      "  warnings.warn(smsg, UserWarning)\n",
      "/opt/anaconda3/lib/python3.12/site-packages/xgboost/core.py:158: UserWarning: [21:41:10] WARNING: /Users/runner/work/xgboost/xgboost/src/learner.cc:740: \n",
      "Parameters: { \"use_label_encoder\" } are not used.\n",
      "\n",
      "  warnings.warn(smsg, UserWarning)\n"
     ]
    },
    {
     "name": "stdout",
     "output_type": "stream",
     "text": [
      "Best Parameters: {'learning_rate': 0.25, 'max_depth': 12, 'n_estimators': 2500, 'reg_lambda': 20, 'subsample': 0.85}\n"
     ]
    }
   ],
   "source": [
    "# Define and initialize XGBClassifier with a parameter grid\n",
    "xgb_model = XGBClassifier(use_label_encoder= True)\n",
    "param_grid = {\n",
    "    'n_estimators': [2500],         # similar to `iterations` in CatBoost\n",
    "    'learning_rate': [0.25],        # similar to `learning_rate` in CatBoost\n",
    "    'max_depth': [12],               # similar to `depth` in CatBoost\n",
    "    'reg_lambda': [20],              # similar to `l2_leaf_reg` in CatBoost\n",
    "    'subsample': [0.85]              # same as `subsample` in CatBoost\n",
    "}\n",
    "\n",
    "# Set up GridSearchCV for hyperparameter tuning\n",
    "grid_search = GridSearchCV(\n",
    "    estimator=xgb_model,\n",
    "    param_grid=param_grid,\n",
    "    scoring='f1_macro',\n",
    "    cv=2,\n",
    "    n_jobs=-1\n",
    ")\n",
    "\n",
    "# Fit model on training data\n",
    "grid_search.fit(X_train, y_train)\n",
    "\n",
    "# Get the best model\n",
    "best_model = grid_search.best_estimator_\n",
    "print(\"Best Parameters:\", grid_search.best_params_)\n",
    "\n"
   ]
  },
  {
   "cell_type": "code",
   "execution_count": 61,
   "id": "d7a5cf18-ce0c-4fe7-9b45-1d20fd357f8e",
   "metadata": {},
   "outputs": [
    {
     "name": "stdout",
     "output_type": "stream",
     "text": [
      "                   Feature  Importance\n",
      "3                    close    0.083017\n",
      "2                      low    0.075296\n",
      "1                     high    0.073320\n",
      "15           minute_of_day    0.067346\n",
      "8   taker_buy_quote_volume    0.067204\n",
      "5       quote_asset_volume    0.066148\n",
      "9                     year    0.063571\n",
      "4                   volume    0.060896\n",
      "10                   month    0.060677\n",
      "7    taker_buy_base_volume    0.060549\n",
      "6         number_of_trades    0.060388\n",
      "11                     day    0.057999\n",
      "14                  minute    0.055726\n",
      "12             day_of_week    0.055725\n",
      "0                     open    0.050008\n",
      "13                    hour    0.042131\n"
     ]
    }
   ],
   "source": [
    "import pandas as pd\n",
    "\n",
    "# Assuming best_model has a feature_importances_ attribute (like CatBoost, RandomForest, etc.)\n",
    "# and X_train is a DataFrame\n",
    "feature_importances = pd.DataFrame({\n",
    "    'Feature': X_train.columns,\n",
    "    'Importance': best_model.feature_importances_\n",
    "})\n",
    "\n",
    "# Sort by importance (descending)\n",
    "feature_importances = feature_importances.sort_values(by='Importance', ascending=False)\n",
    "\n",
    "# Print feature importances\n",
    "print(feature_importances)\n"
   ]
  },
  {
   "cell_type": "code",
   "execution_count": 110,
   "id": "cd248fa7-e049-4983-afbf-0236b61191c5",
   "metadata": {},
   "outputs": [],
   "source": [
    "params = {'learning_rate': 0.6, 'max_depth': 8, 'n_estimators': 1800, 'reg_lambda': 1, 'reg_alpha': 0.5, 'min_child_weight': 1, 'objective': 'binary:logistic', 'subsample': 0.9}\n",
    "best_model = XGBClassifier(**params)\n",
    "best_model = best_model.fit(X_train, y_train)"
   ]
  },
  {
   "cell_type": "code",
   "execution_count": 111,
   "id": "9a6996e0-b3d9-4d69-8e59-69fcfe84925a",
   "metadata": {},
   "outputs": [
    {
     "name": "stdout",
     "output_type": "stream",
     "text": [
      "0.7876047743306452\n"
     ]
    }
   ],
   "source": [
    "y_pred = best_model.predict(X_train)\n",
    "print(f1_score(y_pred, y_train))"
   ]
  },
  {
   "cell_type": "code",
   "execution_count": 114,
   "id": "15e4849c-004c-499a-a3f6-0de4a5992ce8",
   "metadata": {},
   "outputs": [],
   "source": [
    "# Predict on test data\n",
    "y_test_pred = best_model.predict(X_test)"
   ]
  },
  {
   "cell_type": "code",
   "execution_count": 115,
   "id": "0d79a4e7-3821-40ba-9e9b-30c9f146eb88",
   "metadata": {},
   "outputs": [
    {
     "name": "stdout",
     "output_type": "stream",
     "text": [
      "Submission saved as 'submission_xgb.csv'.\n"
     ]
    }
   ],
   "source": [
    "# Create a DataFrame for submission\n",
    "submission = pd.DataFrame({\n",
    "    'row_id': test_row_ids,\n",
    "    'predictions': y_test_pred\n",
    "})\n",
    "\n",
    "# Save submission as CSV\n",
    "submission.to_csv('submission_xgb.csv', index=False)\n",
    "print(\"Submission saved as 'submission_xgb.csv'.\")"
   ]
  }
 ],
 "metadata": {
  "kernelspec": {
   "display_name": "Python 3 (ipykernel)",
   "language": "python",
   "name": "python3"
  },
  "language_info": {
   "codemirror_mode": {
    "name": "ipython",
    "version": 3
   },
   "file_extension": ".py",
   "mimetype": "text/x-python",
   "name": "python",
   "nbconvert_exporter": "python",
   "pygments_lexer": "ipython3",
   "version": "3.12.4"
  }
 },
 "nbformat": 4,
 "nbformat_minor": 5
}
